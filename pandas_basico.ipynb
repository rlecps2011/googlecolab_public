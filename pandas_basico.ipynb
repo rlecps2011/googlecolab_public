{
  "nbformat": 4,
  "nbformat_minor": 0,
  "metadata": {
    "colab": {
      "name": "pandas_basico.ipynb",
      "provenance": [],
      "collapsed_sections": [],
      "mount_file_id": "1mkkYzL7PWvo3oLakapcJoooaPfYiH7zF",
      "authorship_tag": "ABX9TyObrSZGCM0TYN5fvmwom//Y",
      "include_colab_link": true
    },
    "kernelspec": {
      "name": "python3",
      "display_name": "Python 3"
    },
    "language_info": {
      "name": "python"
    }
  },
  "cells": [
    {
      "cell_type": "markdown",
      "metadata": {
        "id": "view-in-github",
        "colab_type": "text"
      },
      "source": [
        "<a href=\"https://colab.research.google.com/github/rlecps2011/googlecolab_public/blob/main/pandas_basico.ipynb\" target=\"_parent\"><img src=\"https://colab.research.google.com/assets/colab-badge.svg\" alt=\"Open In Colab\"/></a>"
      ]
    },
    {
      "cell_type": "markdown",
      "source": [
        "***PANDAS BASICO***\n",
        "\n",
        "Devemos sempre importar a biblioteca pandas com o **import**."
      ],
      "metadata": {
        "id": "mmLjpj1mV6wL"
      }
    },
    {
      "cell_type": "code",
      "execution_count": 4,
      "metadata": {
        "id": "iOrGpm8iV5wT"
      },
      "outputs": [],
      "source": [
        "import pandas as pd\n",
        "consumo_combustivel = {'data': ['01/01/2022', '01/01/2022', '02/01/2022'],\n",
        "'carro': ['carro1', 'carro1', 'carro2'],\n",
        "'placa': ['0001', '0001', '0202'],\n",
        "'tipo': ['alcool', 'alcool', 'gasolina'],\n",
        "'consumo': ['10','15','20']\n",
        "}\n",
        "df_consumo_combustivel = pd.DataFrame(consumo_combustivel)"
      ]
    },
    {
      "cell_type": "code",
      "source": [
        "display(df_consumo_combustivel)"
      ],
      "metadata": {
        "id": "oYKRwhorYeAO"
      },
      "execution_count": null,
      "outputs": []
    },
    {
      "cell_type": "markdown",
      "source": [
        "**Realizando testes baseados no video do HASHTAG Treinamentos** \n",
        "\n",
        "https://www.youtube.com/watch?v=C0aj3FjN5e0&t\n",
        "\n",
        "Nem sempre o comando display é o melhor para visualizar um dataframe, podemos usar o head e o shape como alternativos, menos custosos ao processamento.\n",
        "\n",
        "O describe ja nos mostra resumos de colunas que contem números."
      ],
      "metadata": {
        "id": "IwD7HPvYZaw7"
      }
    },
    {
      "cell_type": "code",
      "source": [
        "df_vendas = pd.read_excel(\"Vendas.xlsx\")"
      ],
      "metadata": {
        "id": "e7hBFRjjZuS-"
      },
      "execution_count": null,
      "outputs": []
    },
    {
      "cell_type": "code",
      "source": [
        "display(df_vendas)"
      ],
      "metadata": {
        "colab": {
          "base_uri": "https://localhost:8080/",
          "height": 424
        },
        "id": "Q-qEwqtKcY5a",
        "outputId": "cc2796c9-b880-4431-c34f-7421b46b4d1a"
      },
      "execution_count": 18,
      "outputs": [
        {
          "output_type": "display_data",
          "data": {
            "text/plain": [
              "       Código Venda       Data              ID Loja            Produto  \\\n",
              "0                 1 2019-01-01   Iguatemi Esplanada     Sapato Estampa   \n",
              "1                 1 2019-01-01   Iguatemi Esplanada           Camiseta   \n",
              "2                 1 2019-01-01   Iguatemi Esplanada      Sapato Xadrez   \n",
              "3                 2 2019-01-02       Norte Shopping            Relógio   \n",
              "4                 2 2019-01-02       Norte Shopping       Chinelo Liso   \n",
              "...             ...        ...                  ...                ...   \n",
              "93905         65012 2019-11-30  Shopping Vila Velha     Mochila Xadrez   \n",
              "93906         65013 2019-11-30    Ribeirão Shopping  Pulseira Listrado   \n",
              "93907         65013 2019-11-30    Ribeirão Shopping     Cueca Listrado   \n",
              "93908         65014 2019-11-30     Shopping Morumbi     Pulseira Linho   \n",
              "93909         65014 2019-11-30     Shopping Morumbi      Casaco Xadrez   \n",
              "\n",
              "       Quantidade  Valor Unitário  Valor Final  \n",
              "0               1             358          358  \n",
              "1               2             180          360  \n",
              "2               1             368          368  \n",
              "3               3             200          600  \n",
              "4               1              71           71  \n",
              "...           ...             ...          ...  \n",
              "93905           2             283          566  \n",
              "93906           2              79          158  \n",
              "93907           3              67          201  \n",
              "93908           5             114          570  \n",
              "93909           4             259         1036  \n",
              "\n",
              "[93910 rows x 7 columns]"
            ],
            "text/html": [
              "\n",
              "  <div id=\"df-e7f401e4-98a8-4d25-9799-39bdf343dc19\">\n",
              "    <div class=\"colab-df-container\">\n",
              "      <div>\n",
              "<style scoped>\n",
              "    .dataframe tbody tr th:only-of-type {\n",
              "        vertical-align: middle;\n",
              "    }\n",
              "\n",
              "    .dataframe tbody tr th {\n",
              "        vertical-align: top;\n",
              "    }\n",
              "\n",
              "    .dataframe thead th {\n",
              "        text-align: right;\n",
              "    }\n",
              "</style>\n",
              "<table border=\"1\" class=\"dataframe\">\n",
              "  <thead>\n",
              "    <tr style=\"text-align: right;\">\n",
              "      <th></th>\n",
              "      <th>Código Venda</th>\n",
              "      <th>Data</th>\n",
              "      <th>ID Loja</th>\n",
              "      <th>Produto</th>\n",
              "      <th>Quantidade</th>\n",
              "      <th>Valor Unitário</th>\n",
              "      <th>Valor Final</th>\n",
              "    </tr>\n",
              "  </thead>\n",
              "  <tbody>\n",
              "    <tr>\n",
              "      <th>0</th>\n",
              "      <td>1</td>\n",
              "      <td>2019-01-01</td>\n",
              "      <td>Iguatemi Esplanada</td>\n",
              "      <td>Sapato Estampa</td>\n",
              "      <td>1</td>\n",
              "      <td>358</td>\n",
              "      <td>358</td>\n",
              "    </tr>\n",
              "    <tr>\n",
              "      <th>1</th>\n",
              "      <td>1</td>\n",
              "      <td>2019-01-01</td>\n",
              "      <td>Iguatemi Esplanada</td>\n",
              "      <td>Camiseta</td>\n",
              "      <td>2</td>\n",
              "      <td>180</td>\n",
              "      <td>360</td>\n",
              "    </tr>\n",
              "    <tr>\n",
              "      <th>2</th>\n",
              "      <td>1</td>\n",
              "      <td>2019-01-01</td>\n",
              "      <td>Iguatemi Esplanada</td>\n",
              "      <td>Sapato Xadrez</td>\n",
              "      <td>1</td>\n",
              "      <td>368</td>\n",
              "      <td>368</td>\n",
              "    </tr>\n",
              "    <tr>\n",
              "      <th>3</th>\n",
              "      <td>2</td>\n",
              "      <td>2019-01-02</td>\n",
              "      <td>Norte Shopping</td>\n",
              "      <td>Relógio</td>\n",
              "      <td>3</td>\n",
              "      <td>200</td>\n",
              "      <td>600</td>\n",
              "    </tr>\n",
              "    <tr>\n",
              "      <th>4</th>\n",
              "      <td>2</td>\n",
              "      <td>2019-01-02</td>\n",
              "      <td>Norte Shopping</td>\n",
              "      <td>Chinelo Liso</td>\n",
              "      <td>1</td>\n",
              "      <td>71</td>\n",
              "      <td>71</td>\n",
              "    </tr>\n",
              "    <tr>\n",
              "      <th>...</th>\n",
              "      <td>...</td>\n",
              "      <td>...</td>\n",
              "      <td>...</td>\n",
              "      <td>...</td>\n",
              "      <td>...</td>\n",
              "      <td>...</td>\n",
              "      <td>...</td>\n",
              "    </tr>\n",
              "    <tr>\n",
              "      <th>93905</th>\n",
              "      <td>65012</td>\n",
              "      <td>2019-11-30</td>\n",
              "      <td>Shopping Vila Velha</td>\n",
              "      <td>Mochila Xadrez</td>\n",
              "      <td>2</td>\n",
              "      <td>283</td>\n",
              "      <td>566</td>\n",
              "    </tr>\n",
              "    <tr>\n",
              "      <th>93906</th>\n",
              "      <td>65013</td>\n",
              "      <td>2019-11-30</td>\n",
              "      <td>Ribeirão Shopping</td>\n",
              "      <td>Pulseira Listrado</td>\n",
              "      <td>2</td>\n",
              "      <td>79</td>\n",
              "      <td>158</td>\n",
              "    </tr>\n",
              "    <tr>\n",
              "      <th>93907</th>\n",
              "      <td>65013</td>\n",
              "      <td>2019-11-30</td>\n",
              "      <td>Ribeirão Shopping</td>\n",
              "      <td>Cueca Listrado</td>\n",
              "      <td>3</td>\n",
              "      <td>67</td>\n",
              "      <td>201</td>\n",
              "    </tr>\n",
              "    <tr>\n",
              "      <th>93908</th>\n",
              "      <td>65014</td>\n",
              "      <td>2019-11-30</td>\n",
              "      <td>Shopping Morumbi</td>\n",
              "      <td>Pulseira Linho</td>\n",
              "      <td>5</td>\n",
              "      <td>114</td>\n",
              "      <td>570</td>\n",
              "    </tr>\n",
              "    <tr>\n",
              "      <th>93909</th>\n",
              "      <td>65014</td>\n",
              "      <td>2019-11-30</td>\n",
              "      <td>Shopping Morumbi</td>\n",
              "      <td>Casaco Xadrez</td>\n",
              "      <td>4</td>\n",
              "      <td>259</td>\n",
              "      <td>1036</td>\n",
              "    </tr>\n",
              "  </tbody>\n",
              "</table>\n",
              "<p>93910 rows × 7 columns</p>\n",
              "</div>\n",
              "      <button class=\"colab-df-convert\" onclick=\"convertToInteractive('df-e7f401e4-98a8-4d25-9799-39bdf343dc19')\"\n",
              "              title=\"Convert this dataframe to an interactive table.\"\n",
              "              style=\"display:none;\">\n",
              "        \n",
              "  <svg xmlns=\"http://www.w3.org/2000/svg\" height=\"24px\"viewBox=\"0 0 24 24\"\n",
              "       width=\"24px\">\n",
              "    <path d=\"M0 0h24v24H0V0z\" fill=\"none\"/>\n",
              "    <path d=\"M18.56 5.44l.94 2.06.94-2.06 2.06-.94-2.06-.94-.94-2.06-.94 2.06-2.06.94zm-11 1L8.5 8.5l.94-2.06 2.06-.94-2.06-.94L8.5 2.5l-.94 2.06-2.06.94zm10 10l.94 2.06.94-2.06 2.06-.94-2.06-.94-.94-2.06-.94 2.06-2.06.94z\"/><path d=\"M17.41 7.96l-1.37-1.37c-.4-.4-.92-.59-1.43-.59-.52 0-1.04.2-1.43.59L10.3 9.45l-7.72 7.72c-.78.78-.78 2.05 0 2.83L4 21.41c.39.39.9.59 1.41.59.51 0 1.02-.2 1.41-.59l7.78-7.78 2.81-2.81c.8-.78.8-2.07 0-2.86zM5.41 20L4 18.59l7.72-7.72 1.47 1.35L5.41 20z\"/>\n",
              "  </svg>\n",
              "      </button>\n",
              "      \n",
              "  <style>\n",
              "    .colab-df-container {\n",
              "      display:flex;\n",
              "      flex-wrap:wrap;\n",
              "      gap: 12px;\n",
              "    }\n",
              "\n",
              "    .colab-df-convert {\n",
              "      background-color: #E8F0FE;\n",
              "      border: none;\n",
              "      border-radius: 50%;\n",
              "      cursor: pointer;\n",
              "      display: none;\n",
              "      fill: #1967D2;\n",
              "      height: 32px;\n",
              "      padding: 0 0 0 0;\n",
              "      width: 32px;\n",
              "    }\n",
              "\n",
              "    .colab-df-convert:hover {\n",
              "      background-color: #E2EBFA;\n",
              "      box-shadow: 0px 1px 2px rgba(60, 64, 67, 0.3), 0px 1px 3px 1px rgba(60, 64, 67, 0.15);\n",
              "      fill: #174EA6;\n",
              "    }\n",
              "\n",
              "    [theme=dark] .colab-df-convert {\n",
              "      background-color: #3B4455;\n",
              "      fill: #D2E3FC;\n",
              "    }\n",
              "\n",
              "    [theme=dark] .colab-df-convert:hover {\n",
              "      background-color: #434B5C;\n",
              "      box-shadow: 0px 1px 3px 1px rgba(0, 0, 0, 0.15);\n",
              "      filter: drop-shadow(0px 1px 2px rgba(0, 0, 0, 0.3));\n",
              "      fill: #FFFFFF;\n",
              "    }\n",
              "  </style>\n",
              "\n",
              "      <script>\n",
              "        const buttonEl =\n",
              "          document.querySelector('#df-e7f401e4-98a8-4d25-9799-39bdf343dc19 button.colab-df-convert');\n",
              "        buttonEl.style.display =\n",
              "          google.colab.kernel.accessAllowed ? 'block' : 'none';\n",
              "\n",
              "        async function convertToInteractive(key) {\n",
              "          const element = document.querySelector('#df-e7f401e4-98a8-4d25-9799-39bdf343dc19');\n",
              "          const dataTable =\n",
              "            await google.colab.kernel.invokeFunction('convertToInteractive',\n",
              "                                                     [key], {});\n",
              "          if (!dataTable) return;\n",
              "\n",
              "          const docLinkHtml = 'Like what you see? Visit the ' +\n",
              "            '<a target=\"_blank\" href=https://colab.research.google.com/notebooks/data_table.ipynb>data table notebook</a>'\n",
              "            + ' to learn more about interactive tables.';\n",
              "          element.innerHTML = '';\n",
              "          dataTable['output_type'] = 'display_data';\n",
              "          await google.colab.output.renderOutput(dataTable, element);\n",
              "          const docLink = document.createElement('div');\n",
              "          docLink.innerHTML = docLinkHtml;\n",
              "          element.appendChild(docLink);\n",
              "        }\n",
              "      </script>\n",
              "    </div>\n",
              "  </div>\n",
              "  "
            ]
          },
          "metadata": {}
        }
      ]
    },
    {
      "cell_type": "code",
      "source": [
        "#outros tipos de visualização, atenção para o describe...\n",
        "display(df_vendas.head(10))\n",
        "print(df_vendas.shape)\n",
        "display(df_vendas.describe())"
      ],
      "metadata": {
        "id": "vWU_YT4icZmB"
      },
      "execution_count": null,
      "outputs": []
    },
    {
      "cell_type": "code",
      "source": [
        "#isolar 1 ou mais 2 colunas em uma variavel.\n",
        "resultado = df_vendas[['Produto', 'Quantidade', 'Valor Final']]\n",
        "#display(resultado)\n",
        "display(resultado.describe())"
      ],
      "metadata": {
        "id": "ug2_KyRAdy1D"
      },
      "execution_count": null,
      "outputs": []
    },
    {
      "cell_type": "markdown",
      "source": [
        "**Comando LOC**\n",
        "\n",
        "Conseguimos filtrar o dataframe por condições.\n",
        "Sejam linhas e/ou colunas..."
      ],
      "metadata": {
        "id": "dYn6G4zYfLBm"
      }
    },
    {
      "cell_type": "code",
      "source": [
        "#para 1 linha do indice (primeira coluna de um dataframe)\n",
        "#display(df_vendas.loc[1])\n",
        "display(df_vendas.loc[90:95])"
      ],
      "metadata": {
        "id": "-9oBLwO3f5X9"
      },
      "execution_count": null,
      "outputs": []
    },
    {
      "cell_type": "code",
      "source": [
        "#filtra baseado em condição\n",
        "display(df_vendas.loc[df_vendas['ID Loja'] == 'Norte Shopping'])"
      ],
      "metadata": {
        "id": "2bwIfBsUhmQM"
      },
      "execution_count": null,
      "outputs": []
    },
    {
      "cell_type": "code",
      "source": [
        "#filtra baseado em condição, selecionando colunas\n",
        "resultado_filtrado = df_vendas.loc[df_vendas['ID Loja'] == 'Norte Shopping', [\"Produto\", \"Quantidade\", \"Valor Final\"]]\n",
        "display(resultado_filtrado)"
      ],
      "metadata": {
        "id": "c13wc45QisKK"
      },
      "execution_count": null,
      "outputs": []
    },
    {
      "cell_type": "markdown",
      "source": [
        "**Adicionando colunas ao dataframe**\n",
        "\n",
        "\n"
      ],
      "metadata": {
        "id": "VKbAEEEZkzEb"
      }
    },
    {
      "cell_type": "code",
      "source": [
        "#adicioando coluna baseada em outra coluna\n",
        "df_vendas['Comissao'] = df_vendas['Valor Final'] * 0.01\n",
        "display(df_vendas)"
      ],
      "metadata": {
        "cellView": "code",
        "id": "9JYPUWQ8k-_m"
      },
      "execution_count": null,
      "outputs": []
    },
    {
      "cell_type": "code",
      "source": [
        "#adicionando coluna zerada com menos processamento\n",
        "df_vendas.loc[:, 'Imposto'] = 0\n",
        "display(df_vendas)"
      ],
      "metadata": {
        "id": "xc-cY26cmpK6"
      },
      "execution_count": null,
      "outputs": []
    },
    {
      "cell_type": "markdown",
      "source": [
        "**Começar a ler o arquivo de Vendas de Dezembro**"
      ],
      "metadata": {
        "id": "rEu-FwTJn__o"
      }
    },
    {
      "cell_type": "code",
      "source": [
        "df_vendas_dezembro = pd.read_excel('Vendas - Dez.xlsx')\n",
        "display(df_vendas_dezembro)"
      ],
      "metadata": {
        "id": "J6Ctx5GVoHsp"
      },
      "execution_count": null,
      "outputs": []
    },
    {
      "cell_type": "code",
      "source": [
        "#adicioando o dataframe de dezembro ao dataframe inicial...\n",
        "\n",
        "# rodar só 1 vez o append, para nao duplicar as linhas\n",
        "df_vendas = df_vendas.append(df_vendas_dezembro)\n",
        "display(df_vendas)"
      ],
      "metadata": {
        "id": "XZNEHnihok-P"
      },
      "execution_count": null,
      "outputs": []
    },
    {
      "cell_type": "markdown",
      "source": [
        "**Excluir colunas ou linhas de um Dataframe**\n",
        "\n",
        "\n",
        "\n",
        "\n"
      ],
      "metadata": {
        "id": "ek90BwAYplHq"
      }
    },
    {
      "cell_type": "code",
      "source": [
        "#atenção ao escolher o eixo X=0 ou Y=1\n",
        "#estou criando a coluna comissao novamente para que este bloco sempre rode\n",
        "\n",
        "df_vendas['Comissao'] = df_vendas['Valor Final'] * 0.01\n",
        "df_vendas = df_vendas.drop(\"Comissao\", axis=1)\n",
        "display(df_vendas)"
      ],
      "metadata": {
        "id": "uayLxXYvpuDG"
      },
      "execution_count": null,
      "outputs": []
    },
    {
      "cell_type": "markdown",
      "source": [
        "**COMANDOS PLUS**\n",
        "\n",
        "tratamento de valores vazios\n"
      ],
      "metadata": {
        "id": "SZ4InPPFsHae"
      }
    },
    {
      "cell_type": "code",
      "source": [
        "#excluir toda uma coluna  toda VAZIA\n",
        "df_vendas = df_vendas.dropna(how='all', axis=1)\n",
        "display(df_vendas)"
      ],
      "metadata": {
        "id": "YqXLAygTsOtM"
      },
      "execution_count": null,
      "outputs": []
    },
    {
      "cell_type": "code",
      "source": [
        "#excluir uma linha que possui pelo menos uma linha com valor Vazio.\n",
        "df_vendas = df_vendas.dropna()\n",
        "display(df_vendas)"
      ],
      "metadata": {
        "id": "mi-HazQktE2f"
      },
      "execution_count": null,
      "outputs": []
    },
    {
      "cell_type": "code",
      "source": [
        "#preencher linhas vazias com algum valor\n",
        "df_vendas['Comissao'] = df_vendas['Comissao'].fillna(1)\n",
        "display(df_vendas)\n",
        "\n",
        "#preencher colunas vazias, porém com o ultimo valor\n",
        "#atencao que podemos usar apenas uma coluna para isto\n",
        "df_vendas = df_vendas.ffill()\n"
      ],
      "metadata": {
        "id": "WYfXXW90tnif"
      },
      "execution_count": null,
      "outputs": []
    },
    {
      "cell_type": "markdown",
      "source": [
        "**COMANDOS DE GROUPBY E COUNTS**\n",
        "\n",
        "\n"
      ],
      "metadata": {
        "id": "W1DZ2td_vVmy"
      }
    },
    {
      "cell_type": "code",
      "source": [
        "#contou quantas linhas agrupando pela loja, ou seja transacoes\n",
        "transacoes = df_vendas['ID Loja'].value_counts()\n",
        "display(transacoes)"
      ],
      "metadata": {
        "id": "pplDatjjvdUL"
      },
      "execution_count": null,
      "outputs": []
    },
    {
      "cell_type": "code",
      "source": [
        "#somar os valores agrupados, ou usar outras funcoes como MEAN\n",
        "#detalhe que podemos usar o groupby também selecionando colunas\n",
        "faturamento_produto = df_vendas[['ID Loja', 'Valor Final', 'Comissao']].groupby(['ID Loja']).sum()\n",
        "display(faturamento_produto)"
      ],
      "metadata": {
        "id": "90NaAxBTwwPF"
      },
      "execution_count": null,
      "outputs": []
    },
    {
      "cell_type": "markdown",
      "source": [
        "**MESCLAR DATAFRAMES, NO SELECT SEMELHANTE AO JOIN ENTRE 2 TABELAS**"
      ],
      "metadata": {
        "id": "JQGNxsBLyqc8"
      }
    },
    {
      "cell_type": "code",
      "source": [
        "#importando o dataframe gerentes\n",
        "df_gerentes = pd.read_excel('Gerentes.xlsx')\n",
        "display(df_gerentes)"
      ],
      "metadata": {
        "id": "oFzSSAzwy4HY"
      },
      "execution_count": null,
      "outputs": []
    },
    {
      "cell_type": "code",
      "source": [
        "#mesclando os dataframes\n",
        "df_vendas = df_vendas.merge(df_gerentes)\n",
        "display(df_vendas)"
      ],
      "metadata": {
        "id": "hBWTvqpFzHl2"
      },
      "execution_count": null,
      "outputs": []
    },
    {
      "cell_type": "code",
      "source": [
        "#Somar a venda por gerente\n",
        "faturamento_gerente = df_vendas[['Gerente', 'Valor Final']].groupby(['Gerente']).sum()\n",
        "display(faturamento_gerente)"
      ],
      "metadata": {
        "id": "hNF2bu0Az6M_"
      },
      "execution_count": null,
      "outputs": []
    }
  ]
}